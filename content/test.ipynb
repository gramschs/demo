{
 "cells": [
  {
   "cell_type": "markdown",
   "metadata": {},
   "source": [
    "# Erklärbarkeit von KI-Modellen\n",
    "\n",
    "Mit Künstlicher Intelligenz (KI) beschäftigen sich Informatikerinnen und\n",
    "Informatiker bereits seit 1955. Die Mehrheit der Bevölkerung in Deutschland hat\n",
    "jedoch erst mit der Veröffentlichung von ChatGPT im November 2022 bewusst zum\n",
    "ersten Mal ein KI-System genutzt. Seitdem findet eine längst\n",
    "überfällige Diskussion statt, wie wir als Gesellschaft zukünftig mit\n",
    "KI-Anwendungen umgehen sollen. Eine besondere Herausforderung in diesem Kontext\n",
    "ist die **Erklärbarkeit von KI-Modellen**, mit der transparent gemacht wird, wie\n",
    "KI-Systeme zu ihren Prognosen und Entscheidungen kommen. "
   ]
  },
  {
   "cell_type": "markdown",
   "metadata": {},
   "source": [
    "## Lernziele\n",
    "\n",
    "* Sie verstehen, warum **Erklärbarkeit von KI-Modellen** gesellschaftlich\n",
    "  relevant ist.\n",
    "* Sie können Erklärungswerkzeuge unterscheiden nach\n",
    "  1. **Komplexität** (intrinsische Modelle oder Post-hoc-Methoden),\n",
    "  2. **Umfang** (global oder lokal) und\n",
    "  3. **Modellabhängigkeit** (modellspezifisch oder modellagnostisch).\n",
    "* Sie können die Funktionsweise des Erklärungsmodells **LIME** (Local\n",
    "  Interpretable Model-Agnostic Explanations) beschreiben und an einem einfachen\n",
    "  Beispiel anwenden."
   ]
  },
  {
   "cell_type": "markdown",
   "metadata": {
    "vscode": {
     "languageId": "plaintext"
    }
   },
   "source": [
    "import joblib"
   ]
  },
  {
   "cell_type": "code",
   "execution_count": 1,
   "metadata": {},
   "outputs": [],
   "source": [
    "import joblib\n",
    "ki_modell = joblib.load('schuhsohlen_orakel.pkl')"
   ]
  },
  {
   "cell_type": "code",
   "execution_count": 2,
   "metadata": {},
   "outputs": [
    {
     "data": {
      "text/html": [
       "<div>\n",
       "<style scoped>\n",
       "    .dataframe tbody tr th:only-of-type {\n",
       "        vertical-align: middle;\n",
       "    }\n",
       "\n",
       "    .dataframe tbody tr th {\n",
       "        vertical-align: top;\n",
       "    }\n",
       "\n",
       "    .dataframe thead th {\n",
       "        text-align: right;\n",
       "    }\n",
       "</style>\n",
       "<table border=\"1\" class=\"dataframe\">\n",
       "  <thead>\n",
       "    <tr style=\"text-align: right;\">\n",
       "      <th></th>\n",
       "      <th>Zellenform</th>\n",
       "      <th>Zellengroesse</th>\n",
       "      <th>Fuellgrad</th>\n",
       "    </tr>\n",
       "  </thead>\n",
       "  <tbody>\n",
       "    <tr>\n",
       "      <th>0</th>\n",
       "      <td>1</td>\n",
       "      <td>3.0</td>\n",
       "      <td>0.30</td>\n",
       "    </tr>\n",
       "    <tr>\n",
       "      <th>1</th>\n",
       "      <td>1</td>\n",
       "      <td>3.3</td>\n",
       "      <td>0.39</td>\n",
       "    </tr>\n",
       "  </tbody>\n",
       "</table>\n",
       "</div>"
      ],
      "text/plain": [
       "   Zellenform  Zellengroesse  Fuellgrad\n",
       "0           1            3.0       0.30\n",
       "1           1            3.3       0.39"
      ]
     },
     "execution_count": 2,
     "metadata": {},
     "output_type": "execute_result"
    }
   ],
   "source": [
    "import pandas as pd \n",
    "\n",
    "bauteil = pd.DataFrame({\n",
    "    'Zellenform': [1, 1],\n",
    "    'Zellengroesse': [3.0, 3.3],\n",
    "    'Fuellgrad': [0.3, 0.39]\n",
    "})\n",
    "\n",
    "bauteil.head()"
   ]
  },
  {
   "cell_type": "code",
   "execution_count": 3,
   "metadata": {},
   "outputs": [],
   "source": [
    "maximale_kraft = ki_modell.predict(bauteil)"
   ]
  },
  {
   "cell_type": "code",
   "execution_count": 4,
   "metadata": {},
   "outputs": [
    {
     "data": {
      "text/plain": [
       "119.99560564285706"
      ]
     },
     "execution_count": 4,
     "metadata": {},
     "output_type": "execute_result"
    }
   ],
   "source": [
    "maximale_kraft[1]"
   ]
  }
 ],
 "metadata": {
  "kernelspec": {
   "display_name": "python311",
   "language": "python",
   "name": "python3"
  },
  "language_info": {
   "codemirror_mode": {
    "name": "ipython",
    "version": 3
   },
   "file_extension": ".py",
   "mimetype": "text/x-python",
   "name": "python",
   "nbconvert_exporter": "python",
   "pygments_lexer": "ipython3",
   "version": "3.11.0"
  }
 },
 "nbformat": 4,
 "nbformat_minor": 2
}
