{
 "cells": [
  {
   "cell_type": "markdown",
   "id": "7437f498",
   "metadata": {},
   "source": [
    "# Geschwindigkeit aus der Beschleunigung rekonstruieren\n",
    "\n",
    "Wir führen das folgende Experiment aus. Eine Person setzt sich auf ein Bobby\n",
    "Car und fährt eine kurze Zeit, so schnell sie kann.\n",
    "\n",
    "Zu Beginn der Bobby-Car-Fahrt ist die Geschwindigkeit Null. Wir bezeichnen die\n",
    "Geschwindigkeit mit $v$ \\[m/s\\] und die Zeit mit $t$ \\[s\\].\n",
    "Es gilt also für den Start $t_0 = 0 \\,\\mathrm{s}$\n",
    "\n",
    "$$v(0) = 0 \\frac{\\mathrm{m}}{\\mathrm{s}}.$$\n",
    "\n",
    "Die Beschleunigung messen wir mit Hilfe eines Smartphones und der App\n",
    "[Phyphox](https://phyphox.org). Beispielhaft erhalten wir die folgenden\n",
    "Beschleunigungsmessungen, die wir mit dem Python-Modul Pandas importieren.\n",
    "\n",
    "**Mini-Übung**: Ersetzen Sie den Dateinamen `Beschleunigung_V01.xls` durch den korrekten Dateinamen und führen Sie die Code-Zelle aus."
   ]
  },
  {
   "cell_type": "code",
   "execution_count": null,
   "id": "1b2c9154",
   "metadata": {},
   "outputs": [],
   "source": [
    "import pandas as pd\n",
    "\n",
    "daten = pd.read_excel('data/Beschleunigung_V01.xls')\n",
    "daten.info()"
   ]
  },
  {
   "cell_type": "markdown",
   "id": "a06f42ec",
   "metadata": {},
   "source": [
    "Wir verwenden das Python-Modul Plotly Express, um die Beschleunigungsdaten in\n",
    "x-Richtung abhängig von der Zeit zu visualisieren. Die x-Richtung wird gewählt,\n",
    "weil das Smartphone beim Experiment entsprechend montiert war (siehe\n",
    "[Koordinatensystem von Phyphox](https://phyphox.org/de/unterstutzte-sensoren/))."
   ]
  },
  {
   "cell_type": "code",
   "execution_count": null,
   "id": "82a2d655",
   "metadata": {},
   "outputs": [],
   "source": [
    "import plotly.express as px\n",
    "\n",
    "fig = px.scatter(daten, x = 'Time (s)', y = 'Linear Acceleration x (m/s^2)')\n",
    "fig.show()"
   ]
  },
  {
   "cell_type": "markdown",
   "id": "e96dd106",
   "metadata": {},
   "source": [
    "Damit wir einfacher auf die Messdaten zugreifen können, speichern wir die\n",
    "Zeitmessungen `Time (s)` in der Variablen `t` und die Beschleunigung `Linear\n",
    "Acceleration x (m/s^2)` in der Variablen `a`."
   ]
  },
  {
   "cell_type": "code",
   "execution_count": null,
   "id": "0cea752f",
   "metadata": {},
   "outputs": [],
   "source": [
    "t = daten['Time (s)']\n",
    "a = daten['Linear Acceleration x (m/s^2)']"
   ]
  },
  {
   "cell_type": "markdown",
   "id": "c7a460bd",
   "metadata": {},
   "source": [
    "Nun wollen wir numerisch die Geschwindigkeiten aus den Beschleunigungsdaten\n",
    "rekonstruieren. Generell führt eine konstante Beschleunigung $a$, die eine\n",
    "Zeitdauer $\\Delta t$ lang wirkt, zu einer Geschwindigkeitsänderung $\\Delta v$:\n",
    "\n",
    "$$\\Delta v = a \\cdot \\Delta t.$$\n",
    "\n",
    "Da wir nur diskrete Messwerte vorliegen haben, nehmen wir an, dass die\n",
    "Beschleunigung $a_0$ konstant im Zeitintervall $[t_0, t_1]$ gewirkt hat und\n",
    "können damit nun die neue Geschwindigkeit $v_1$ berechnen. In mathematischen\n",
    "Formeln erhalten wir\n",
    "\n",
    "$$v_1 - v_0 = a_0 \\cdot (t_1 - t_0)\\quad\n",
    "\\Rightarrow \\quad v_1 = v_0 + a_0 \\cdot (t_1 - t_0).$$\n",
    "\n",
    "Wir setzen den Anfangswert $t_0 = 0$ und $v(t_0) = 0$, also in Python"
   ]
  },
  {
   "cell_type": "code",
   "execution_count": null,
   "id": "f359b9b5",
   "metadata": {},
   "outputs": [],
   "source": [
    "# Anfangswert\n",
    "t0 = 0\n",
    "v0 = 0"
   ]
  },
  {
   "cell_type": "markdown",
   "id": "9d8e1037",
   "metadata": {},
   "source": [
    "**Mini-Übung**: Ergänzen Sie in der nächsten Code-Zelle die Berechnung der\n",
    "Geschwindigkeit $v_1$ gemäß der obigen Formel\n",
    "\n",
    "$$v_1 = v_0 + a_0 \\cdot (t_1 - t_0)$$\n",
    "\n",
    "und lassen Sie $v_1$ ausgeben.\n"
   ]
  },
  {
   "cell_type": "code",
   "execution_count": null,
   "id": "43249fce",
   "metadata": {},
   "outputs": [],
   "source": [
    "# Code-Zelle"
   ]
  },
  {
   "cell_type": "markdown",
   "id": "0a8ced64",
   "metadata": {},
   "source": [
    "**Mini-Übung**: Jetzt, wo wir $v_1$ berechnet haben, können wir erneut annehmen, dass $a_1$\n",
    "konstant im Zeitintervall $[t_1, t_2]$ gewirkt hat und erhalten:\n",
    "\n",
    "$$v_2 - v_1 = a_1 \\cdot (t_2 - t_1)\\quad\n",
    "\\Rightarrow \\quad v_2 = v_1 + a_1 \\cdot (t_2 - t_1).$$\n",
    "\n",
    "Berechnen Sie $v_2$."
   ]
  },
  {
   "cell_type": "code",
   "execution_count": null,
   "id": "56260bc5",
   "metadata": {},
   "outputs": [],
   "source": [
    "# Code-Zelle"
   ]
  },
  {
   "cell_type": "markdown",
   "id": "3c8324a0",
   "metadata": {},
   "source": [
    "Diese Prozedur können wir immer weiter fortsetzen, bis wir die Geschwindigkeit\n",
    "auf dem gesamten gemessenen Zeitintervall rekonstruiert haben. Das wollen wir\n",
    "nicht händisch, sondern automatisiert mit Python machen. Daher bestimmen wir\n",
    "zunächst die Anzahl der Messwerte $N$ und initialisieren anschließend ein\n",
    "NumPy-Array der Länge $N$, das die Geschwindigkeitswerte aufnehmen soll."
   ]
  },
  {
   "cell_type": "code",
   "execution_count": null,
   "id": "3fc4c45b",
   "metadata": {},
   "outputs": [],
   "source": [
    "import numpy as np\n",
    "\n",
    "N = len(t)\n",
    "v = np.zeros(N)"
   ]
  },
  {
   "cell_type": "markdown",
   "id": "a04b92a6",
   "metadata": {},
   "source": [
    "Die obige Berechnung der Geschwindigkeitsänderung\n",
    "\n",
    "$$\\Delta v = a \\cdot \\Delta t$$\n",
    "\n",
    "lässt sich für beliebige Zeitintervalle $[t_i, t_{i+1}]$ formulieren als\n",
    "\n",
    "$$v_{i+1} - v_{i} = a_{i} \\cdot (t_{i+1} - t_{i})\\quad\n",
    "\\Rightarrow \\quad v_{i+1} = v_{i} + a_{i} \\cdot (t_{i+1} - t_{i}).$$\n",
    "\n",
    "**Mini-Übung**: Schreiben Sie eine for-Schleife, die nacheinander die Geschwindigkeitswerte aus den gemessenen Beschleunigungen berechnet. Speichern Sie die Geschwindigkeiten in dem NumPy-Array `v`."
   ]
  },
  {
   "cell_type": "code",
   "execution_count": null,
   "id": "6348f23a",
   "metadata": {},
   "outputs": [],
   "source": [
    "# Code-Zelle"
   ]
  },
  {
   "cell_type": "markdown",
   "id": "659ac479",
   "metadata": {},
   "source": [
    "Nun können wir die berechneten Geschwindigkeiten visualisieren. "
   ]
  },
  {
   "cell_type": "code",
   "execution_count": null,
   "id": "24e2eb97",
   "metadata": {},
   "outputs": [],
   "source": [
    "fig = px.line(x = t, y = v, labels = {'x': 'Time (s)', 'y': 'Velocity in x (m/s)'})\n",
    "fig.show()"
   ]
  },
  {
   "cell_type": "markdown",
   "id": "af401e18",
   "metadata": {},
   "source": [
    "## Einfluss der Schrittweite\n",
    "\n",
    "Wie gut die numerische Lösung eine exakte Lösung eines Anfangswertproblems\n",
    "annähert, wird auch durch die Schrittweite bestimmt. Um den Zusammenhang\n",
    "zwischen der Schrittweite $h$ und den Fehler des Euler-Verfahrens zu verstehen,\n",
    "betrachten wir das folgende Beispiel.\n",
    "\n",
    "Ein Bobby-Car fährt mit einer Anfangsgeschwindigkeit von $v_0 = 5\n",
    "\\mathrm{m}/\\mathrm{s}$. Der Fahrer oder die Fahrerin lässt das Bobby-Car\n",
    "ausrollen. Dann gilt für das Abbremsen des Bobby-Cars die folgende\n",
    "Differentialgleichung\n",
    "\n",
    "$$\\dot{v}(t) = - k \\cdot v(t)^2,$$\n",
    "\n",
    "wobei wir annehmen, dass der Abbremsvorgang zum Zeitpunkt $t = 0\\,\\mathrm{s}$\n",
    "beginnt. Die Konstante $k$ ergibt sich aus dem Luftwiderstand und hat in unserem\n",
    "Fall einen Wert von\n",
    "\n",
    "$$k = 0.003 \\frac{1}{\\mathrm{m}}.$$\n",
    "\n",
    "Als nächstes variieren wir die Schrittweite $h>0$.\n",
    "\n",
    "**Mini-Übung**: Öffnen Sie im Browser die interaktive Demonstration des Euler-Verfahrens\n",
    "\n",
    "https://gramschs.github.io/euler/_static/assets/interactive_euler_demo.html\n",
    "\n",
    "für die Abbremsung des Bobby-Cars. Variieren Sie die Schrittweite h und\n",
    "beobachten Sie, wie gut oder schlecht die Annäherung an die exakte Lösung ist.\n",
    "Legen Sie eine Tabelle an:\n",
    "\n",
    "| Schrittweite h    | Fehler     |\n",
    "| ------------- | ------------- |\n",
    "| 1 | ? |\n",
    "| 5 | ? |\n",
    "| ... | ??? |\n",
    "\n",
    "Stellen Sie eine Vermutung an. Wie hängt der Fehler von der Schrittweite ab?"
   ]
  }
 ],
 "metadata": {
  "jupytext": {
   "cell_metadata_filter": "-all",
   "main_language": "python"
  },
  "kernelspec": {
   "display_name": "python312",
   "language": "python",
   "name": "python3"
  },
  "language_info": {
   "codemirror_mode": {
    "name": "ipython",
    "version": 3
   },
   "file_extension": ".py",
   "mimetype": "text/x-python",
   "name": "python",
   "nbconvert_exporter": "python",
   "pygments_lexer": "ipython3",
   "version": "3.12.2"
  }
 },
 "nbformat": 4,
 "nbformat_minor": 5
}
